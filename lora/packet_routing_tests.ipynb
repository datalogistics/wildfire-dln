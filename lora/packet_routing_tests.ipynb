{
 "cells": [
  {
   "cell_type": "markdown",
   "metadata": {},
   "source": [
    "Author: Juliette Zerick\n",
    "Created: October 2018\n",
    "Last modified (tested): November 3, 2018\n",
    "\n",
    "Purpose: This notebook contains tests and output to ensure packets are routed to the proper queues, responded to appropriately, and amplified when necessary.\n",
    "\n",
    "Current status: all tests passed"
   ]
  },
  {
   "cell_type": "code",
   "execution_count": 2,
   "metadata": {},
   "outputs": [],
   "source": [
    "from inspect import getframeinfo, stack\n",
    "\n",
    "from whisper import *\n",
    "import whisper_globals as wg\n",
    "\n",
    "'''\n",
    "The test harness involves running code in an interpreter in each RPi, manually \n",
    "inserting into the message queues. Take the stimulus_response pairs, \n",
    "run stimulus in order, check against the expected response.\n",
    "'''\n",
    "\n",
    "def test_packet_routing():\n",
    "    signal.signal(signal.SIGINT, signal_handler)\n",
    "    \n",
    "    post_t = threading.Thread(target=postal_sorter)\n",
    "    post_t.daemon = True # so it does with the host process\n",
    "    THREAD_BUCKET.append(post_t) # for easier cleanup\n",
    "    post_t.start()\n",
    "\n",
    "    carto_t = threading.Thread(target=cartographer)\n",
    "    carto_t.daemon = True # so it does with the host process\n",
    "    THREAD_BUCKET.append(carto_t) # for easier cleanup\n",
    "    carto_t.start()\n",
    "    \n",
    "    log.info('testing packet routing')\n",
    "\n",
    "def report(test_result):\n",
    "    caller = getframeinfo(stack()[1][0])\n",
    "    caller_filename = caller.filename\n",
    "    caller_line_num = caller.lineno\n",
    "    \n",
    "    if test_result:\n",
    "        log.debug('\\n\\ntest ok!\\n')\n",
    "    else:\n",
    "        log.debug('failure reported by %s at line %d' % (caller_filename,caller_line_num))\n",
    "    \n",
    "def print_msg(M):\n",
    "    print('\\t to:                   %s' % (M.recipient_addr))\n",
    "    print('\\t saturation requested: %d' % (M.bloom_count))\n",
    "    \n",
    "    if M.saturation_req:\n",
    "        print('\\t\\t initial sender:    %s' % (M.init_sender_addr)) \n",
    "        print('\\t\\t initial send time: %f' % (M.init_send_time))\n",
    "    \n",
    "    print('\\t from:                 %s' % (M.sender_addr))\n",
    "    print('\\t time sent:            %f' % (M.send_time))\n",
    "    print('\\t request type:         %s' % (msg_code2msg_desc(M.msg_type)))\n",
    "    print('\\t payload:              %s' % (M.payload))\n",
    "\n",
    "def fresh_test():\n",
    "    mopup()\n",
    "    test_packet_routing()\n",
    "    wg.msg_store.reset()\n",
    "\n",
    "def bloomed(q,sender_addr,send_time):\n",
    "    q.sender_addr = sender_addr\n",
    "    q.send_time = send_time\n",
    "    q.bloom_count = q.bloom_count + 1\n",
    "    return str(q)\n",
    "\n",
    "def single_test(stimulus):\n",
    "    global inbox_q,outbox_q,carto_q\n",
    "\n",
    "    stim_lmsg = lora_message(stimulus)\n",
    "    \n",
    "    if not stim_lmsg.pkt_valid:\n",
    "        log.debug('stimulus packet was invalid')\n",
    "        exit()\n",
    " \n",
    "    log.debug('injecting packet into the inbox')\n",
    "    inbox_q.put(stim_lmsg)\n",
    "\n",
    "    time.sleep(2)\n",
    "\n",
    "    if stim_lmsg.hit_msg_store:\n",
    "        print('\\n   retrieved from message store:\\n')\n",
    "        \n",
    "        for K in wg.msg_store.inventory.keys():\n",
    "            print('     <',K,wg.msg_store.inventory[K],'>')\n",
    "            retrieved_from_msg_store = wg.msg_store.stock[K]\n",
    "            print_msg(retrieved_from_msg_store)\n",
    "            print()\n",
    "            \n",
    "    if stim_lmsg.hit_outbox:\n",
    "        print('\\n   response retrieved from outbox:\\n')\n",
    "        \n",
    "        retrieved_from_outbox = outbox_q.get_nowait()\n",
    "        print_msg(retrieved_from_outbox)\n",
    "        return retrieved_from_outbox  "
   ]
  },
  {
   "cell_type": "code",
   "execution_count": 3,
   "metadata": {},
   "outputs": [],
   "source": [
    "import whisper_globals as wg\n",
    "\n",
    "PACKET_NO_BLOOM = '%s/0/%s/%f/%d/%s//%f|'\n",
    "PACKET_WITH_BLOOM = '%s/%d,%s,%f/%s/%f/%d/%s//%f|'\n",
    "\n",
    "my_addr = MY_MAC_ADDR\n",
    "neighbor_addr = 'aa:bb:cc:dd:ee:ff'\n",
    "far_neighbor_addr = 'ff:ee:dd:cc:bb:aa'\n",
    "multicast = '*'\n",
    "init_sender_addr = '00:11:22:33:44:55'\n",
    "\n",
    "init_send_time = now() - 20\n",
    "neighbor_send_time = now() - 10\n",
    "far_neighbor_send_time = now() - 5\n",
    "\n",
    "payload = ''\n",
    "response_payload = '42,42'\n",
    "RSSI_val = -42\n",
    "\n",
    "bloom_count = 1\n",
    "\n",
    "notification = MSG_TYPE_POS_UPDATE\n",
    "msg_type_request = MSG_TYPE_POS_REQUEST\n",
    "msg_type_response = MSG_TYPE_POS_RESPONSE"
   ]
  },
  {
   "cell_type": "markdown",
   "metadata": {},
   "source": [
    "### Scenario: MULTICAST, SATURATION REQUESTED, RESPONSE REQUESTED"
   ]
  },
  {
   "cell_type": "code",
   "execution_count": 16,
   "metadata": {},
   "outputs": [
    {
     "name": "stderr",
     "output_type": "stream",
     "text": [
      "[whisper.py:55 -        mopup() ] cleaning up...\n",
      "[whisper.py:195 - postal_sorter() ] thread active\n",
      "[whisper.py:138 - cartographer() ] thread active\n",
      "[<ipython-input-14-f6af153cacb2>:25 - test_packet_routing() ] testing packet routing\n",
      "[whisper_globals.py:49 -        reset() ] message store reset\n",
      "[<ipython-input-14-f6af153cacb2>:70 -  single_test() ] injecting packet into the inbox\n",
      "[whisper.py:210 - postal_sorter() ] got mail (001122334455,1541278068.486482)\n",
      "[whisper.py:189 - continue_bloom() ] amplified (001122334455,1541278068.486482)\n",
      "[whisper_globals.py:33 -  incorporate() ] incorporated (001122334455,1541278068.486482)\n",
      "[whisper_globals.py:28 - update_inventory() ] thresholds adjusted for (001122334455,1541278068.486482) with 1 observations\n",
      "[whisper.py:149 - cartographer() ] received mail (001122334455,1541278068.486482)\n",
      "[whisper_globals.py:33 -  incorporate() ] incorporated (000C29530414,1541278093.122964)\n",
      "[whisper_globals.py:28 - update_inventory() ] thresholds adjusted for (000C29530414,1541278093.122964) with 1 observations\n"
     ]
    },
    {
     "name": "stdout",
     "output_type": "stream",
     "text": [
      "\n",
      "   retrieved from message store:\n",
      "\n",
      "     < ('001122334455', 1541278068.486482) 1 >\n",
      "\t to:                   *\n",
      "\t saturation requested: 2\n",
      "\t\t initial sender:    001122334455\n",
      "\t\t initial send time: 1541278068.486482\n",
      "\t from:                 000C29530414\n",
      "\t time sent:            1541278093.098591\n",
      "\t request type:         MSG_TYPE_POS_REQUEST\n",
      "\t payload:              \n",
      "\n",
      "     < ('000C29530414', 1541278093.122964) 1 >\n",
      "\t to:                   001122334455\n",
      "\t saturation requested: 1\n",
      "\t\t initial sender:    000C29530414\n",
      "\t\t initial send time: 1541278093.122964\n",
      "\t from:                 000C29530414\n",
      "\t time sent:            1541278093.122964\n",
      "\t request type:         MSG_TYPE_POS_RESPONSE\n",
      "\t payload:              39.172741,-86.523283\n",
      "\n",
      "\n",
      "   response retrieved from outbox:\n",
      "\n",
      "\t to:                   001122334455\n",
      "\t saturation requested: 1\n",
      "\t\t initial sender:    000C29530414\n",
      "\t\t initial send time: 1541278093.122964\n",
      "\t from:                 000C29530414\n",
      "\t time sent:            1541278093.122964\n",
      "\t request type:         MSG_TYPE_POS_RESPONSE\n",
      "\t payload:              39.172741,-86.523283\n"
     ]
    }
   ],
   "source": [
    "fresh_test()\n",
    "\n",
    "# request from the initial sender, seen by the recipients\n",
    "S = PACKET_WITH_BLOOM % (multicast,\n",
    "    bloom_count, init_sender_addr, init_send_time,\n",
    "    init_sender_addr,init_send_time,\n",
    "    msg_type_request, payload, RSSI_val)\n",
    "\n",
    "R0 = single_test(S)"
   ]
  },
  {
   "cell_type": "code",
   "execution_count": 17,
   "metadata": {},
   "outputs": [
    {
     "name": "stderr",
     "output_type": "stream",
     "text": [
      "[<ipython-input-14-f6af153cacb2>:70 -  single_test() ] injecting packet into the inbox\n",
      "[whisper.py:210 - postal_sorter() ] got mail (001122334455,1541278068.486482)\n",
      "[whisper_globals.py:28 - update_inventory() ] thresholds adjusted for (001122334455,1541278068.486482) with 2 observations\n"
     ]
    }
   ],
   "source": [
    "# observation of request amplified by neighbors\n",
    "S = PACKET_WITH_BLOOM % (multicast,\n",
    "    bloom_count+1, init_sender_addr, init_send_time,\n",
    "    neighbor_addr, neighbor_send_time,\n",
    "    msg_type_request, payload, RSSI_val)\n",
    "\n",
    "single_test(S)"
   ]
  },
  {
   "cell_type": "code",
   "execution_count": 18,
   "metadata": {},
   "outputs": [
    {
     "name": "stderr",
     "output_type": "stream",
     "text": [
      "[<ipython-input-14-f6af153cacb2>:70 -  single_test() ] injecting packet into the inbox\n",
      "[whisper.py:210 - postal_sorter() ] got mail (000C29530414,1541278093.122964)\n",
      "[whisper_globals.py:28 - update_inventory() ] thresholds adjusted for (000C29530414,1541278093.122964) with 2 observations\n"
     ]
    }
   ],
   "source": [
    "B0 = bloomed(R0,neighbor_addr, neighbor_send_time)\n",
    "\n",
    "single_test(B0)"
   ]
  },
  {
   "cell_type": "code",
   "execution_count": 19,
   "metadata": {},
   "outputs": [
    {
     "name": "stderr",
     "output_type": "stream",
     "text": [
      "[<ipython-input-14-f6af153cacb2>:70 -  single_test() ] injecting packet into the inbox\n",
      "[whisper.py:210 - postal_sorter() ] got mail (000C29530414,1541278093.122964)\n",
      "[whisper_globals.py:28 - update_inventory() ] thresholds adjusted for (000C29530414,1541278093.122964) with 3 observations\n"
     ]
    }
   ],
   "source": [
    "B0 = bloomed(R0,far_neighbor_addr, far_neighbor_send_time)\n",
    "\n",
    "single_test(B0)"
   ]
  },
  {
   "cell_type": "code",
   "execution_count": 20,
   "metadata": {},
   "outputs": [
    {
     "name": "stderr",
     "output_type": "stream",
     "text": [
      "[<ipython-input-14-f6af153cacb2>:70 -  single_test() ] injecting packet into the inbox\n",
      "[whisper.py:210 - postal_sorter() ] got mail (001122334455,1541278068.486482)\n",
      "[whisper_globals.py:28 - update_inventory() ] thresholds adjusted for (001122334455,1541278068.486482) with 3 observations\n"
     ]
    }
   ],
   "source": [
    "# further observations of propagated requests\n",
    "S = PACKET_WITH_BLOOM % (multicast,\n",
    "    bloom_count+2, init_sender_addr, init_send_time,\n",
    "    far_neighbor_addr, far_neighbor_send_time,\n",
    "    msg_type_request, payload, RSSI_val)\n",
    "\n",
    "single_test(S)"
   ]
  },
  {
   "cell_type": "code",
   "execution_count": 21,
   "metadata": {},
   "outputs": [
    {
     "name": "stderr",
     "output_type": "stream",
     "text": [
      "[<ipython-input-14-f6af153cacb2>:70 -  single_test() ] injecting packet into the inbox\n",
      "[whisper.py:210 - postal_sorter() ] got mail (AABBCCDDEEFF,1541278078.486493)\n",
      "[whisper.py:189 - continue_bloom() ] amplified (AABBCCDDEEFF,1541278078.486493)\n",
      "[whisper_globals.py:33 -  incorporate() ] incorporated (AABBCCDDEEFF,1541278078.486493)\n",
      "[whisper_globals.py:28 - update_inventory() ] thresholds adjusted for (AABBCCDDEEFF,1541278078.486493) with 1 observations\n",
      "[whisper.py:149 - cartographer() ] received mail (AABBCCDDEEFF,1541278078.486493)\n"
     ]
    }
   ],
   "source": [
    "# observation of neighbor's response\n",
    "S = PACKET_WITH_BLOOM % (init_sender_addr,\n",
    "    1, neighbor_addr, neighbor_send_time,\n",
    "    neighbor_addr, neighbor_send_time,\n",
    "    msg_type_response, response_payload, RSSI_val)\n",
    "\n",
    "single_test(S)"
   ]
  },
  {
   "cell_type": "code",
   "execution_count": 22,
   "metadata": {},
   "outputs": [
    {
     "name": "stderr",
     "output_type": "stream",
     "text": [
      "[<ipython-input-14-f6af153cacb2>:70 -  single_test() ] injecting packet into the inbox\n",
      "[whisper.py:210 - postal_sorter() ] got mail (AABBCCDDEEFF,1541278078.486493)\n",
      "[whisper_globals.py:28 - update_inventory() ] thresholds adjusted for (AABBCCDDEEFF,1541278078.486493) with 2 observations\n"
     ]
    }
   ],
   "source": [
    "# observation of responses amplified by neighbors\n",
    "S = PACKET_WITH_BLOOM % (init_sender_addr,\n",
    "    bloom_count+1, neighbor_addr, neighbor_send_time,\n",
    "    far_neighbor_addr, far_neighbor_send_time,\n",
    "    msg_type_response, response_payload, RSSI_val)\n",
    "\n",
    "single_test(S)"
   ]
  },
  {
   "cell_type": "code",
   "execution_count": 23,
   "metadata": {},
   "outputs": [
    {
     "name": "stderr",
     "output_type": "stream",
     "text": [
      "[<ipython-input-14-f6af153cacb2>:70 -  single_test() ] injecting packet into the inbox\n",
      "[whisper.py:210 - postal_sorter() ] got mail (AABBCCDDEEFF,1541278078.486493)\n",
      "[whisper_globals.py:28 - update_inventory() ] thresholds adjusted for (AABBCCDDEEFF,1541278078.486493) with 3 observations\n"
     ]
    }
   ],
   "source": [
    "# observation of far neighbor's amplification of neighbor's response\n",
    "S = PACKET_WITH_BLOOM % (init_sender_addr,\n",
    "    bloom_count+1, neighbor_addr, neighbor_send_time,\n",
    "    far_neighbor_addr, far_neighbor_send_time,\n",
    "    msg_type_response, response_payload, RSSI_val)\n",
    "\n",
    "single_test(S)"
   ]
  },
  {
   "cell_type": "code",
   "execution_count": 24,
   "metadata": {},
   "outputs": [
    {
     "name": "stderr",
     "output_type": "stream",
     "text": [
      "[<ipython-input-14-f6af153cacb2>:70 -  single_test() ] injecting packet into the inbox\n",
      "[whisper.py:210 - postal_sorter() ] got mail (FFEEDDCCBBAA,1541278083.486502)\n",
      "[whisper.py:189 - continue_bloom() ] amplified (FFEEDDCCBBAA,1541278083.486502)\n",
      "[whisper_globals.py:33 -  incorporate() ] incorporated (FFEEDDCCBBAA,1541278083.486502)\n",
      "[whisper_globals.py:28 - update_inventory() ] thresholds adjusted for (FFEEDDCCBBAA,1541278083.486502) with 1 observations\n",
      "[whisper.py:149 - cartographer() ] received mail (FFEEDDCCBBAA,1541278083.486502)\n"
     ]
    }
   ],
   "source": [
    "# observation of far neighbor's response\n",
    "S = PACKET_WITH_BLOOM % (init_sender_addr,\n",
    "    1, far_neighbor_addr, far_neighbor_send_time,\n",
    "    far_neighbor_addr, far_neighbor_send_time,\n",
    "    msg_type_response, response_payload, RSSI_val)\n",
    "\n",
    "single_test(S)"
   ]
  },
  {
   "cell_type": "code",
   "execution_count": 25,
   "metadata": {},
   "outputs": [
    {
     "name": "stderr",
     "output_type": "stream",
     "text": [
      "[whisper.py:55 -        mopup() ] cleaning up...\n",
      "[whisper.py:195 - postal_sorter() ] thread active\n",
      "[whisper.py:138 - cartographer() ] thread active\n",
      "[<ipython-input-14-f6af153cacb2>:25 - test_packet_routing() ] testing packet routing\n",
      "[whisper_globals.py:49 -        reset() ] message store reset\n",
      "[<ipython-input-14-f6af153cacb2>:70 -  single_test() ] injecting packet into the inbox\n",
      "[whisper.py:210 - postal_sorter() ] got mail (001122334455,1541278068.486482)\n",
      "[whisper.py:189 - continue_bloom() ] amplified (001122334455,1541278068.486482)\n",
      "[whisper_globals.py:33 -  incorporate() ] incorporated (001122334455,1541278068.486482)\n",
      "[whisper_globals.py:28 - update_inventory() ] thresholds adjusted for (001122334455,1541278068.486482) with 1 observations\n",
      "[whisper.py:149 - cartographer() ] received mail (001122334455,1541278068.486482)\n",
      "[whisper_globals.py:33 -  incorporate() ] incorporated (000C29530414,1541278115.163941)\n",
      "[whisper_globals.py:28 - update_inventory() ] thresholds adjusted for (000C29530414,1541278115.163941) with 1 observations\n"
     ]
    },
    {
     "name": "stdout",
     "output_type": "stream",
     "text": [
      "\n",
      "   retrieved from message store:\n",
      "\n",
      "     < ('001122334455', 1541278068.486482) 1 >\n",
      "\t to:                   *\n",
      "\t saturation requested: 3\n",
      "\t\t initial sender:    001122334455\n",
      "\t\t initial send time: 1541278068.486482\n",
      "\t from:                 000C29530414\n",
      "\t time sent:            1541278115.062732\n",
      "\t request type:         MSG_TYPE_POS_REQUEST\n",
      "\t payload:              \n",
      "\n",
      "     < ('000C29530414', 1541278115.163941) 1 >\n",
      "\t to:                   001122334455\n",
      "\t saturation requested: 1\n",
      "\t\t initial sender:    000C29530414\n",
      "\t\t initial send time: 1541278115.163941\n",
      "\t from:                 000C29530414\n",
      "\t time sent:            1541278115.163941\n",
      "\t request type:         MSG_TYPE_POS_RESPONSE\n",
      "\t payload:              39.172741,-86.523283\n",
      "\n",
      "\n",
      "   response retrieved from outbox:\n",
      "\n",
      "\t to:                   001122334455\n",
      "\t saturation requested: 1\n",
      "\t\t initial sender:    000C29530414\n",
      "\t\t initial send time: 1541278115.163941\n",
      "\t from:                 000C29530414\n",
      "\t time sent:            1541278115.163941\n",
      "\t request type:         MSG_TYPE_POS_RESPONSE\n",
      "\t payload:              39.172741,-86.523283\n"
     ]
    }
   ],
   "source": [
    "fresh_test() \n",
    "\n",
    "# request propagated by neighbors\n",
    "S = PACKET_WITH_BLOOM % (multicast,\n",
    "    bloom_count+1, init_sender_addr, init_send_time,\n",
    "    neighbor_addr, neighbor_send_time,\n",
    "    msg_type_request, payload, RSSI_val)\n",
    "\n",
    "R = single_test(S)"
   ]
  },
  {
   "cell_type": "code",
   "execution_count": 26,
   "metadata": {},
   "outputs": [
    {
     "name": "stderr",
     "output_type": "stream",
     "text": [
      "[whisper.py:55 -        mopup() ] cleaning up...\n",
      "[whisper.py:195 - postal_sorter() ] thread active\n",
      "[whisper.py:138 - cartographer() ] thread active\n",
      "[<ipython-input-14-f6af153cacb2>:25 - test_packet_routing() ] testing packet routing\n",
      "[whisper_globals.py:49 -        reset() ] message store reset\n",
      "[<ipython-input-14-f6af153cacb2>:70 -  single_test() ] injecting packet into the inbox\n",
      "[whisper.py:210 - postal_sorter() ] got mail (AABBCCDDEEFF,1541278078.486493)\n",
      "[whisper.py:189 - continue_bloom() ] amplified (AABBCCDDEEFF,1541278078.486493)\n",
      "[whisper_globals.py:33 -  incorporate() ] incorporated (AABBCCDDEEFF,1541278078.486493)\n",
      "[whisper_globals.py:28 - update_inventory() ] thresholds adjusted for (AABBCCDDEEFF,1541278078.486493) with 1 observations\n",
      "[whisper.py:149 - cartographer() ] received mail (AABBCCDDEEFF,1541278078.486493)\n"
     ]
    }
   ],
   "source": [
    "fresh_test() \n",
    "\n",
    "# responses propagated by the recipients, request unobserved\n",
    "S = PACKET_WITH_BLOOM % (init_sender_addr,\n",
    "    bloom_count+1, neighbor_addr, neighbor_send_time,\n",
    "    far_neighbor_addr,far_neighbor_send_time,\n",
    "    msg_type_response, response_payload, RSSI_val)\n",
    "\n",
    "R = single_test(S)"
   ]
  },
  {
   "cell_type": "markdown",
   "metadata": {},
   "source": [
    "### Scenario: NO MULTICAST, SATURATION REQUESTED, RESPONSE REQUESTED "
   ]
  },
  {
   "cell_type": "code",
   "execution_count": 27,
   "metadata": {},
   "outputs": [
    {
     "name": "stderr",
     "output_type": "stream",
     "text": [
      "[whisper.py:55 -        mopup() ] cleaning up...\n",
      "[whisper.py:195 - postal_sorter() ] thread active\n",
      "[whisper.py:138 - cartographer() ] thread active\n",
      "[<ipython-input-14-f6af153cacb2>:25 - test_packet_routing() ] testing packet routing\n",
      "[whisper_globals.py:49 -        reset() ] message store reset\n",
      "[<ipython-input-14-f6af153cacb2>:70 -  single_test() ] injecting packet into the inbox\n",
      "[whisper.py:210 - postal_sorter() ] got mail (001122334455,1541278068.486482)\n",
      "[whisper.py:149 - cartographer() ] received mail (001122334455,1541278068.486482)\n",
      "[whisper_globals.py:33 -  incorporate() ] incorporated (000C29530414,1541278123.037334)\n",
      "[whisper_globals.py:28 - update_inventory() ] thresholds adjusted for (000C29530414,1541278123.037334) with 1 observations\n"
     ]
    },
    {
     "name": "stdout",
     "output_type": "stream",
     "text": [
      "\n",
      "   retrieved from message store:\n",
      "\n",
      "     < ('000C29530414', 1541278123.037334) 1 >\n",
      "\t to:                   001122334455\n",
      "\t saturation requested: 1\n",
      "\t\t initial sender:    000C29530414\n",
      "\t\t initial send time: 1541278123.037334\n",
      "\t from:                 000C29530414\n",
      "\t time sent:            1541278123.037334\n",
      "\t request type:         MSG_TYPE_POS_RESPONSE\n",
      "\t payload:              39.172741,-86.523283\n",
      "\n",
      "\n",
      "   response retrieved from outbox:\n",
      "\n",
      "\t to:                   001122334455\n",
      "\t saturation requested: 1\n",
      "\t\t initial sender:    000C29530414\n",
      "\t\t initial send time: 1541278123.037334\n",
      "\t from:                 000C29530414\n",
      "\t time sent:            1541278123.037334\n",
      "\t request type:         MSG_TYPE_POS_RESPONSE\n",
      "\t payload:              39.172741,-86.523283\n"
     ]
    }
   ],
   "source": [
    "fresh_test() \n",
    "\n",
    "# request from the initial sender, seen by the recipient\n",
    "S = PACKET_WITH_BLOOM % (my_addr,\n",
    "    bloom_count, init_sender_addr, init_send_time,\n",
    "    init_sender_addr,init_send_time,\n",
    "    msg_type_request, payload, RSSI_val)\n",
    "\n",
    "R0 = single_test(S)"
   ]
  },
  {
   "cell_type": "code",
   "execution_count": 28,
   "metadata": {},
   "outputs": [
    {
     "name": "stderr",
     "output_type": "stream",
     "text": [
      "[<ipython-input-14-f6af153cacb2>:70 -  single_test() ] injecting packet into the inbox\n",
      "[whisper.py:210 - postal_sorter() ] got mail (000C29530414,1541278123.037334)\n",
      "[whisper_globals.py:28 - update_inventory() ] thresholds adjusted for (000C29530414,1541278123.037334) with 2 observations\n"
     ]
    }
   ],
   "source": [
    "# observation of a neighbor's amplification of the response\n",
    "B0 = bloomed(R0,neighbor_addr, neighbor_send_time)\n",
    "\n",
    "single_test(B0)"
   ]
  },
  {
   "cell_type": "code",
   "execution_count": 29,
   "metadata": {},
   "outputs": [
    {
     "name": "stderr",
     "output_type": "stream",
     "text": [
      "[whisper.py:55 -        mopup() ] cleaning up...\n",
      "[whisper.py:195 - postal_sorter() ] thread active\n",
      "[whisper.py:138 - cartographer() ] thread active\n",
      "[<ipython-input-14-f6af153cacb2>:25 - test_packet_routing() ] testing packet routing\n",
      "[whisper_globals.py:49 -        reset() ] message store reset\n",
      "[<ipython-input-14-f6af153cacb2>:70 -  single_test() ] injecting packet into the inbox\n",
      "[whisper.py:210 - postal_sorter() ] got mail (001122334455,1541278068.486482)\n",
      "[whisper.py:189 - continue_bloom() ] amplified (001122334455,1541278068.486482)\n",
      "[whisper_globals.py:33 -  incorporate() ] incorporated (001122334455,1541278068.486482)\n",
      "[whisper_globals.py:28 - update_inventory() ] thresholds adjusted for (001122334455,1541278068.486482) with 1 observations\n"
     ]
    }
   ],
   "source": [
    "fresh_test() \n",
    "\n",
    "# observation of a request to a neighbor\n",
    "S = PACKET_WITH_BLOOM % (neighbor_addr,\n",
    "    bloom_count, init_sender_addr, init_send_time,\n",
    "    init_sender_addr, init_send_time,\n",
    "    msg_type_request, payload, RSSI_val)\n",
    "\n",
    "single_test(S)"
   ]
  },
  {
   "cell_type": "code",
   "execution_count": 30,
   "metadata": {},
   "outputs": [
    {
     "name": "stderr",
     "output_type": "stream",
     "text": [
      "[<ipython-input-14-f6af153cacb2>:70 -  single_test() ] injecting packet into the inbox\n",
      "[whisper.py:210 - postal_sorter() ] got mail (AABBCCDDEEFF,1541278078.486493)\n",
      "[whisper.py:189 - continue_bloom() ] amplified (AABBCCDDEEFF,1541278078.486493)\n",
      "[whisper_globals.py:33 -  incorporate() ] incorporated (AABBCCDDEEFF,1541278078.486493)\n",
      "[whisper_globals.py:28 - update_inventory() ] thresholds adjusted for (AABBCCDDEEFF,1541278078.486493) with 1 observations\n",
      "[whisper.py:149 - cartographer() ] received mail (AABBCCDDEEFF,1541278078.486493)\n"
     ]
    }
   ],
   "source": [
    "# observation of the neighbor's response to the request\n",
    "S = PACKET_WITH_BLOOM % (init_sender_addr,\n",
    "    1, neighbor_addr, neighbor_send_time,\n",
    "    neighbor_addr, neighbor_send_time,\n",
    "    msg_type_response, payload, RSSI_val)\n",
    "\n",
    "single_test(S)"
   ]
  },
  {
   "cell_type": "code",
   "execution_count": 31,
   "metadata": {},
   "outputs": [
    {
     "name": "stderr",
     "output_type": "stream",
     "text": [
      "[whisper.py:55 -        mopup() ] cleaning up...\n",
      "[whisper.py:195 - postal_sorter() ] thread active\n",
      "[whisper.py:138 - cartographer() ] thread active\n",
      "[<ipython-input-14-f6af153cacb2>:25 - test_packet_routing() ] testing packet routing\n",
      "[whisper_globals.py:49 -        reset() ] message store reset\n",
      "[<ipython-input-14-f6af153cacb2>:70 -  single_test() ] injecting packet into the inbox\n",
      "[whisper.py:210 - postal_sorter() ] got mail (001122334455,1541278068.486482)\n",
      "[whisper.py:149 - cartographer() ] received mail (001122334455,1541278068.486482)\n",
      "[whisper_globals.py:33 -  incorporate() ] incorporated (000C29530414,1541278142.945507)\n",
      "[whisper_globals.py:28 - update_inventory() ] thresholds adjusted for (000C29530414,1541278142.945507) with 1 observations\n"
     ]
    },
    {
     "name": "stdout",
     "output_type": "stream",
     "text": [
      "\n",
      "   retrieved from message store:\n",
      "\n",
      "     < ('000C29530414', 1541278142.945507) 1 >\n",
      "\t to:                   001122334455\n",
      "\t saturation requested: 1\n",
      "\t\t initial sender:    000C29530414\n",
      "\t\t initial send time: 1541278142.945507\n",
      "\t from:                 000C29530414\n",
      "\t time sent:            1541278142.945507\n",
      "\t request type:         MSG_TYPE_POS_RESPONSE\n",
      "\t payload:              39.172741,-86.523283\n",
      "\n",
      "\n",
      "   response retrieved from outbox:\n",
      "\n",
      "\t to:                   001122334455\n",
      "\t saturation requested: 1\n",
      "\t\t initial sender:    000C29530414\n",
      "\t\t initial send time: 1541278142.945507\n",
      "\t from:                 000C29530414\n",
      "\t time sent:            1541278142.945507\n",
      "\t request type:         MSG_TYPE_POS_RESPONSE\n",
      "\t payload:              39.172741,-86.523283\n"
     ]
    },
    {
     "data": {
      "text/plain": [
       "<whisper_protocol.lora_message at 0x7f2d2c658a20>"
      ]
     },
     "execution_count": 31,
     "metadata": {},
     "output_type": "execute_result"
    }
   ],
   "source": [
    "fresh_test() \n",
    "\n",
    "# observation of neighbor's amplification of the request\n",
    "S = PACKET_WITH_BLOOM % (my_addr,\n",
    "    bloom_count+3, init_sender_addr, init_send_time,\n",
    "    neighbor_addr, neighbor_send_time,\n",
    "    msg_type_request, response_payload, RSSI_val)\n",
    "\n",
    "single_test(S)"
   ]
  },
  {
   "cell_type": "markdown",
   "metadata": {},
   "source": [
    "### Scenario: MULTICAST, SATURATION REQUESTED, NO RESPONSE REQUESTED "
   ]
  },
  {
   "cell_type": "code",
   "execution_count": 32,
   "metadata": {},
   "outputs": [
    {
     "name": "stderr",
     "output_type": "stream",
     "text": [
      "[whisper.py:55 -        mopup() ] cleaning up...\n",
      "[whisper.py:195 - postal_sorter() ] thread active\n",
      "[whisper.py:138 - cartographer() ] thread active\n",
      "[<ipython-input-14-f6af153cacb2>:25 - test_packet_routing() ] testing packet routing\n",
      "[whisper_globals.py:49 -        reset() ] message store reset\n",
      "[<ipython-input-14-f6af153cacb2>:70 -  single_test() ] injecting packet into the inbox\n",
      "[whisper.py:210 - postal_sorter() ] got mail (001122334455,1541278068.486482)\n",
      "[whisper.py:189 - continue_bloom() ] amplified (001122334455,1541278068.486482)\n",
      "[whisper_globals.py:33 -  incorporate() ] incorporated (001122334455,1541278068.486482)\n",
      "[whisper_globals.py:28 - update_inventory() ] thresholds adjusted for (001122334455,1541278068.486482) with 1 observations\n",
      "[whisper.py:149 - cartographer() ] received mail (001122334455,1541278068.486482)\n"
     ]
    }
   ],
   "source": [
    "fresh_test() \n",
    "\n",
    "# notification from the initial sender, seen by the recipients\n",
    "S = PACKET_WITH_BLOOM % (multicast,\n",
    "    bloom_count, init_sender_addr, init_send_time,\n",
    "    init_sender_addr,init_send_time,\n",
    "    notification, payload, RSSI_val)\n",
    "\n",
    "single_test(S)"
   ]
  },
  {
   "cell_type": "code",
   "execution_count": 33,
   "metadata": {},
   "outputs": [
    {
     "name": "stderr",
     "output_type": "stream",
     "text": [
      "[<ipython-input-14-f6af153cacb2>:70 -  single_test() ] injecting packet into the inbox\n",
      "[whisper.py:210 - postal_sorter() ] got mail (001122334455,1541278068.486482)\n",
      "[whisper_globals.py:28 - update_inventory() ] thresholds adjusted for (001122334455,1541278068.486482) with 2 observations\n"
     ]
    }
   ],
   "source": [
    "# observation of the notification, amplified by neighbors\n",
    "S = PACKET_WITH_BLOOM % (multicast,\n",
    "    bloom_count+3, init_sender_addr, init_send_time,\n",
    "    neighbor_addr,neighbor_send_time,\n",
    "    notification, payload, RSSI_val)\n",
    "\n",
    "single_test(S)"
   ]
  },
  {
   "cell_type": "code",
   "execution_count": 34,
   "metadata": {},
   "outputs": [
    {
     "name": "stderr",
     "output_type": "stream",
     "text": [
      "[whisper.py:55 -        mopup() ] cleaning up...\n",
      "[whisper.py:195 - postal_sorter() ] thread active\n",
      "[whisper.py:138 - cartographer() ] thread active\n",
      "[<ipython-input-14-f6af153cacb2>:25 - test_packet_routing() ] testing packet routing\n",
      "[whisper_globals.py:49 -        reset() ] message store reset\n",
      "[<ipython-input-14-f6af153cacb2>:70 -  single_test() ] injecting packet into the inbox\n",
      "[whisper.py:210 - postal_sorter() ] got mail (001122334455,1541278068.486482)\n",
      "[whisper.py:189 - continue_bloom() ] amplified (001122334455,1541278068.486482)\n",
      "[whisper_globals.py:33 -  incorporate() ] incorporated (001122334455,1541278068.486482)\n",
      "[whisper_globals.py:28 - update_inventory() ] thresholds adjusted for (001122334455,1541278068.486482) with 1 observations\n",
      "[whisper.py:149 - cartographer() ] received mail (001122334455,1541278068.486482)\n"
     ]
    }
   ],
   "source": [
    "fresh_test() \n",
    "\n",
    "# observation of the notification, amplified by neighbors\n",
    "S = PACKET_WITH_BLOOM % (multicast,\n",
    "    bloom_count+3, init_sender_addr, init_send_time,\n",
    "    neighbor_addr,neighbor_send_time,\n",
    "    notification, payload, RSSI_val)\n",
    "\n",
    "single_test(S)"
   ]
  },
  {
   "cell_type": "markdown",
   "metadata": {},
   "source": [
    "### Scenario: NO MULTICAST, SATURATION REQUESTED, NO RESPONSE REQUESTED "
   ]
  },
  {
   "cell_type": "code",
   "execution_count": 35,
   "metadata": {},
   "outputs": [
    {
     "name": "stderr",
     "output_type": "stream",
     "text": [
      "[whisper.py:55 -        mopup() ] cleaning up...\n",
      "[whisper.py:195 - postal_sorter() ] thread active\n",
      "[whisper.py:138 - cartographer() ] thread active\n",
      "[<ipython-input-14-f6af153cacb2>:25 - test_packet_routing() ] testing packet routing\n",
      "[whisper_globals.py:49 -        reset() ] message store reset\n",
      "[<ipython-input-14-f6af153cacb2>:70 -  single_test() ] injecting packet into the inbox\n",
      "[whisper.py:210 - postal_sorter() ] got mail (001122334455,1541278068.486482)\n",
      "[whisper.py:149 - cartographer() ] received mail (001122334455,1541278068.486482)\n"
     ]
    }
   ],
   "source": [
    "fresh_test() \n",
    "\n",
    "# notification from the initial sender, seen by the recipient\n",
    "S = PACKET_WITH_BLOOM % (my_addr,\n",
    "    bloom_count, init_sender_addr, init_send_time,\n",
    "    init_sender_addr,init_send_time,\n",
    "    notification, payload, RSSI_val)\n",
    "\n",
    "single_test(S)"
   ]
  },
  {
   "cell_type": "code",
   "execution_count": 36,
   "metadata": {},
   "outputs": [
    {
     "name": "stderr",
     "output_type": "stream",
     "text": [
      "[<ipython-input-14-f6af153cacb2>:70 -  single_test() ] injecting packet into the inbox\n",
      "[whisper.py:210 - postal_sorter() ] got mail (001122334455,1541278068.486482)\n",
      "[whisper.py:149 - cartographer() ] received mail (001122334455,1541278068.486482)\n"
     ]
    }
   ],
   "source": [
    "# observation of the initial request amplified by a neighbor\n",
    "S = PACKET_WITH_BLOOM % (my_addr,\n",
    "    bloom_count+1, init_sender_addr, init_send_time,\n",
    "    neighbor_addr,neighbor_send_time,\n",
    "    notification, payload, RSSI_val)\n",
    "\n",
    "single_test(S)"
   ]
  },
  {
   "cell_type": "code",
   "execution_count": 37,
   "metadata": {},
   "outputs": [
    {
     "name": "stderr",
     "output_type": "stream",
     "text": [
      "[<ipython-input-14-f6af153cacb2>:70 -  single_test() ] injecting packet into the inbox\n",
      "[whisper.py:210 - postal_sorter() ] got mail (FFEEDDCCBBAA,1541278083.486502)\n",
      "[whisper.py:189 - continue_bloom() ] amplified (FFEEDDCCBBAA,1541278083.486502)\n",
      "[whisper_globals.py:33 -  incorporate() ] incorporated (FFEEDDCCBBAA,1541278083.486502)\n",
      "[whisper_globals.py:28 - update_inventory() ] thresholds adjusted for (FFEEDDCCBBAA,1541278083.486502) with 1 observations\n",
      "[whisper.py:149 - cartographer() ] received mail (FFEEDDCCBBAA,1541278083.486502)\n"
     ]
    }
   ],
   "source": [
    "# observation of message to a neighbor\n",
    "S = PACKET_WITH_BLOOM % (neighbor_addr,\n",
    "    bloom_count, far_neighbor_addr, far_neighbor_send_time,\n",
    "    far_neighbor_addr, far_neighbor_send_time,\n",
    "    notification, payload, RSSI_val)\n",
    "\n",
    "single_test(S)"
   ]
  },
  {
   "cell_type": "markdown",
   "metadata": {},
   "source": [
    "### Scenario: MULTICAST, SATURATION NOT REQUESTED, RESPONSE REQUESTED "
   ]
  },
  {
   "cell_type": "code",
   "execution_count": 38,
   "metadata": {},
   "outputs": [
    {
     "name": "stderr",
     "output_type": "stream",
     "text": [
      "[whisper.py:55 -        mopup() ] cleaning up...\n",
      "[whisper.py:195 - postal_sorter() ] thread active\n",
      "[whisper.py:138 - cartographer() ] thread active\n",
      "[<ipython-input-14-f6af153cacb2>:25 - test_packet_routing() ] testing packet routing\n",
      "[whisper_globals.py:49 -        reset() ] message store reset\n",
      "[<ipython-input-14-f6af153cacb2>:70 -  single_test() ] injecting packet into the inbox\n",
      "[whisper.py:210 - postal_sorter() ] got mail (001122334455,1541278068.486482)\n",
      "[whisper.py:149 - cartographer() ] received mail (001122334455,1541278068.486482)\n"
     ]
    },
    {
     "name": "stdout",
     "output_type": "stream",
     "text": [
      "\n",
      "   response retrieved from outbox:\n",
      "\n",
      "\t to:                   001122334455\n",
      "\t saturation requested: 0\n",
      "\t from:                 000C29530414\n",
      "\t time sent:            1541278176.692764\n",
      "\t request type:         MSG_TYPE_POS_RESPONSE\n",
      "\t payload:              39.172741,-86.523283\n"
     ]
    },
    {
     "data": {
      "text/plain": [
       "<whisper_protocol.lora_message at 0x7f2d2c658ac8>"
      ]
     },
     "execution_count": 38,
     "metadata": {},
     "output_type": "execute_result"
    }
   ],
   "source": [
    "fresh_test() \n",
    "\n",
    "# request from the initial sender, seen by the recipients\n",
    "S = PACKET_NO_BLOOM % (multicast,\n",
    "    init_sender_addr, init_send_time,\n",
    "    msg_type_request, payload, RSSI_val)\n",
    "\n",
    "single_test(S)"
   ]
  },
  {
   "cell_type": "code",
   "execution_count": 39,
   "metadata": {},
   "outputs": [
    {
     "name": "stderr",
     "output_type": "stream",
     "text": [
      "[<ipython-input-14-f6af153cacb2>:70 -  single_test() ] injecting packet into the inbox\n",
      "[whisper.py:210 - postal_sorter() ] got mail (AABBCCDDEEFF,1541278078.486493)\n",
      "[whisper.py:149 - cartographer() ] received mail (AABBCCDDEEFF,1541278078.486493)\n"
     ]
    }
   ],
   "source": [
    "# observation of a neighbor's response\n",
    "S = PACKET_NO_BLOOM % (init_sender_addr,\n",
    "    neighbor_addr, neighbor_send_time,\n",
    "    msg_type_response, response_payload, RSSI_val)\n",
    "\n",
    "single_test(S)"
   ]
  },
  {
   "cell_type": "markdown",
   "metadata": {},
   "source": [
    "### Scenario: MULTICAST, SATURATION NOT REQUESTED, NO RESPONSE REQUESTED "
   ]
  },
  {
   "cell_type": "code",
   "execution_count": 40,
   "metadata": {},
   "outputs": [
    {
     "name": "stderr",
     "output_type": "stream",
     "text": [
      "[whisper.py:55 -        mopup() ] cleaning up...\n",
      "[whisper.py:195 - postal_sorter() ] thread active\n",
      "[whisper.py:138 - cartographer() ] thread active\n",
      "[<ipython-input-14-f6af153cacb2>:25 - test_packet_routing() ] testing packet routing\n",
      "[whisper_globals.py:49 -        reset() ] message store reset\n",
      "[<ipython-input-14-f6af153cacb2>:70 -  single_test() ] injecting packet into the inbox\n",
      "[whisper.py:210 - postal_sorter() ] got mail (001122334455,1541278068.486482)\n",
      "[whisper.py:149 - cartographer() ] received mail (001122334455,1541278068.486482)\n"
     ]
    }
   ],
   "source": [
    "fresh_test() \n",
    "\n",
    "# notification from the initial sender\n",
    "S = PACKET_NO_BLOOM % (multicast,\n",
    "    init_sender_addr, init_send_time,\n",
    "    notification, payload, RSSI_val)\n",
    "\n",
    "single_test(S)"
   ]
  },
  {
   "cell_type": "markdown",
   "metadata": {},
   "source": [
    "### Scenario: NO MULTICAST, SATURATION NOT REQUESTED, RESPONSE REQUESTED "
   ]
  },
  {
   "cell_type": "code",
   "execution_count": 41,
   "metadata": {},
   "outputs": [
    {
     "name": "stderr",
     "output_type": "stream",
     "text": [
      "[whisper.py:55 -        mopup() ] cleaning up...\n",
      "[whisper.py:195 - postal_sorter() ] thread active\n",
      "[whisper.py:138 - cartographer() ] thread active\n",
      "[<ipython-input-14-f6af153cacb2>:25 - test_packet_routing() ] testing packet routing\n",
      "[whisper_globals.py:49 -        reset() ] message store reset\n",
      "[<ipython-input-14-f6af153cacb2>:70 -  single_test() ] injecting packet into the inbox\n",
      "[whisper.py:210 - postal_sorter() ] got mail (001122334455,1541278068.486482)\n",
      "[whisper.py:149 - cartographer() ] received mail (001122334455,1541278068.486482)\n"
     ]
    },
    {
     "name": "stdout",
     "output_type": "stream",
     "text": [
      "\n",
      "   response retrieved from outbox:\n",
      "\n",
      "\t to:                   001122334455\n",
      "\t saturation requested: 0\n",
      "\t from:                 000C29530414\n",
      "\t time sent:            1541278186.513560\n",
      "\t request type:         MSG_TYPE_POS_RESPONSE\n",
      "\t payload:              39.172741,-86.523283\n"
     ]
    },
    {
     "data": {
      "text/plain": [
       "<whisper_protocol.lora_message at 0x7f2d3c310fd0>"
      ]
     },
     "execution_count": 41,
     "metadata": {},
     "output_type": "execute_result"
    }
   ],
   "source": [
    "fresh_test() \n",
    "\n",
    "# request from the initial sender, seen by the recipient\n",
    "S = PACKET_NO_BLOOM % (my_addr,\n",
    "    init_sender_addr, init_send_time,\n",
    "    msg_type_request, payload, RSSI_val)\n",
    "\n",
    "single_test(S)"
   ]
  },
  {
   "cell_type": "code",
   "execution_count": 42,
   "metadata": {},
   "outputs": [
    {
     "name": "stderr",
     "output_type": "stream",
     "text": [
      "[<ipython-input-14-f6af153cacb2>:70 -  single_test() ] injecting packet into the inbox\n",
      "[whisper.py:210 - postal_sorter() ] got mail (001122334455,1541278068.486482)\n"
     ]
    }
   ],
   "source": [
    "# observation of a request made to a neighbor\n",
    "S = PACKET_NO_BLOOM % (neighbor_addr,\n",
    "    init_sender_addr, init_send_time,\n",
    "    msg_type_request, payload, RSSI_val)\n",
    "\n",
    "single_test(S)"
   ]
  },
  {
   "cell_type": "code",
   "execution_count": 43,
   "metadata": {},
   "outputs": [
    {
     "name": "stderr",
     "output_type": "stream",
     "text": [
      "[<ipython-input-14-f6af153cacb2>:70 -  single_test() ] injecting packet into the inbox\n",
      "[whisper.py:210 - postal_sorter() ] got mail (AABBCCDDEEFF,1541278078.486493)\n",
      "[whisper.py:149 - cartographer() ] received mail (AABBCCDDEEFF,1541278078.486493)\n"
     ]
    }
   ],
   "source": [
    "# obseration of the neighbor's response to the request\n",
    "S = PACKET_NO_BLOOM % (init_sender_addr,\n",
    "    neighbor_addr, neighbor_send_time,\n",
    "    msg_type_response, response_payload, RSSI_val)\n",
    "\n",
    "single_test(S)"
   ]
  },
  {
   "cell_type": "markdown",
   "metadata": {},
   "source": [
    "### Scenario: NO MULTICAST, SATURATION NOT REQUESTED, NO RESPONSE REQUESTED "
   ]
  },
  {
   "cell_type": "code",
   "execution_count": 44,
   "metadata": {},
   "outputs": [
    {
     "name": "stderr",
     "output_type": "stream",
     "text": [
      "[whisper.py:55 -        mopup() ] cleaning up...\n",
      "[whisper.py:195 - postal_sorter() ] thread active\n",
      "[whisper.py:138 - cartographer() ] thread active\n",
      "[<ipython-input-14-f6af153cacb2>:25 - test_packet_routing() ] testing packet routing\n",
      "[whisper_globals.py:49 -        reset() ] message store reset\n",
      "[<ipython-input-14-f6af153cacb2>:70 -  single_test() ] injecting packet into the inbox\n",
      "[whisper.py:210 - postal_sorter() ] got mail (001122334455,1541278068.486482)\n",
      "[whisper.py:149 - cartographer() ] received mail (001122334455,1541278068.486482)\n"
     ]
    }
   ],
   "source": [
    "fresh_test() \n",
    "\n",
    "# notification directed at this device\n",
    "S = PACKET_NO_BLOOM % (my_addr,\n",
    "    init_sender_addr, init_send_time,\n",
    "    notification, payload, RSSI_val)\n",
    "\n",
    "single_test(S)"
   ]
  },
  {
   "cell_type": "code",
   "execution_count": 45,
   "metadata": {},
   "outputs": [
    {
     "name": "stderr",
     "output_type": "stream",
     "text": [
      "[<ipython-input-14-f6af153cacb2>:70 -  single_test() ] injecting packet into the inbox\n",
      "[whisper.py:210 - postal_sorter() ] got mail (001122334455,1541278068.486482)\n",
      "[whisper.py:149 - cartographer() ] received mail (001122334455,1541278068.486482)\n"
     ]
    }
   ],
   "source": [
    "# observation of notification directed to a neighbor\n",
    "S = PACKET_NO_BLOOM % (neighbor_addr,\n",
    "    init_sender_addr, init_send_time,\n",
    "    notification, payload, RSSI_val)\n",
    "\n",
    "single_test(S)"
   ]
  }
 ],
 "metadata": {
  "kernelspec": {
   "display_name": "Python 3",
   "language": "python",
   "name": "python3"
  },
  "language_info": {
   "codemirror_mode": {
    "name": "ipython",
    "version": 3
   },
   "file_extension": ".py",
   "mimetype": "text/x-python",
   "name": "python",
   "nbconvert_exporter": "python",
   "pygments_lexer": "ipython3",
   "version": "3.6.6"
  }
 },
 "nbformat": 4,
 "nbformat_minor": 2
}
